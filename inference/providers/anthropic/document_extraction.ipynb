{
 "cells": [
  {
   "cell_type": "markdown",
   "metadata": {},
   "source": [
    "<a target=\"_blank\" href=\"https://colab.research.google.com/github/Blaizzy/LLMOps/blob/main/inference/providers/anthropic/document_extraction.ipynb\">\n",
    "  <img src=\"https://colab.research.google.com/assets/colab-badge.svg\" alt=\"Open In Colab\"/>\n",
    "</a>"
   ]
  },
  {
   "cell_type": "markdown",
   "metadata": {},
   "source": [
    "## Getting started with Claude 3 family of LLMs\n",
    "\n",
    "<img src=\"./assets/claude 3.webp\" width=500>\n",
    "\n",
    "In this guide, you'll learn how to use Anthropic's Claude 3 models to extract information from large documents, including the vision variants.\n",
    "\n",
    "### Tools\n",
    "- Anthropic LLM API\n",
    "- Langchain\n"
   ]
  },
  {
   "cell_type": "code",
   "execution_count": null,
   "metadata": {},
   "outputs": [],
   "source": [
    "!pip install langchain langchain-anthropic pypdf langchain_community anthropic"
   ]
  },
  {
   "cell_type": "code",
   "execution_count": null,
   "metadata": {},
   "outputs": [],
   "source": [
    "from getpass import getpass\n",
    "import os\n",
    "\n",
    "os.environ['ANTHROPIC_API_KEY'] = getpass()"
   ]
  },
  {
   "cell_type": "markdown",
   "metadata": {},
   "source": [
    "## Claude 3\n",
    "\n",
    "- 200K context window but upto 1M for selected users\n",
    "- \n",
    "\n",
    "<img src=\"./assets/claude 3 eval.webp\" width=400>\n",
    "\n"
   ]
  },
  {
   "cell_type": "markdown",
   "metadata": {},
   "source": [
    "## Claude 3 Vision\n",
    "\n",
    "<img src=\"./assets/claude 3 vision eval.webp\" width=400>"
   ]
  },
  {
   "cell_type": "code",
   "execution_count": null,
   "metadata": {},
   "outputs": [],
   "source": []
  }
 ],
 "metadata": {
  "language_info": {
   "name": "python"
  }
 },
 "nbformat": 4,
 "nbformat_minor": 2
}
