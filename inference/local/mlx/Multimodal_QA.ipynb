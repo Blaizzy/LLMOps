{
 "cells": [
  {
   "cell_type": "code",
   "execution_count": null,
   "metadata": {},
   "outputs": [],
   "source": [
    "!pip install -U mlx-vlm gradio"
   ]
  },
  {
   "cell_type": "code",
   "execution_count": 1,
   "metadata": {},
   "outputs": [],
   "source": [
    "import mlx.core as mx\n",
    "from mlx_vlm import load, generate\n",
    "from mlx_vlm.utils import load_image_processor"
   ]
  },
  {
   "cell_type": "code",
   "execution_count": 3,
   "metadata": {},
   "outputs": [
    {
     "data": {
      "application/vnd.jupyter.widget-view+json": {
       "model_id": "1af16f3e07f64b0e9cc55bb508d96aa9",
       "version_major": 2,
       "version_minor": 0
      },
      "text/plain": [
       "Fetching 11 files:   0%|          | 0/11 [00:00<?, ?it/s]"
      ]
     },
     "metadata": {},
     "output_type": "display_data"
    },
    {
     "name": "stderr",
     "output_type": "stream",
     "text": [
      "Special tokens have been added in the vocabulary, make sure the associated word embeddings are fine-tuned or trained.\n"
     ]
    },
    {
     "data": {
      "application/vnd.jupyter.widget-view+json": {
       "model_id": "6e69ea10c186466f96e70d6ddbdae237",
       "version_major": 2,
       "version_minor": 0
      },
      "text/plain": [
       "Fetching 11 files:   0%|          | 0/11 [00:00<?, ?it/s]"
      ]
     },
     "metadata": {},
     "output_type": "display_data"
    }
   ],
   "source": [
    "model_path = \"mlx-community/nanoLLaVA\"\n",
    "model, processor = load(model_path,{\"trust_remote_code\": True})\n",
    "image_processor = load_image_processor(model_path)"
   ]
  },
  {
   "cell_type": "code",
   "execution_count": 4,
   "metadata": {},
   "outputs": [
    {
     "name": "stdout",
     "output_type": "stream",
     "text": [
      "==========\n",
      "Image: ./assets/image.png \n",
      "\n",
      "Prompt: <|im_start|>system\n",
      "Answer the questions.<|im_end|><|im_start|>user\n",
      "<image>\n",
      "What's so funny about this image?<|im_end|><|im_start|>assistant\n",
      "\n",
      "This image is quite amusing. It's a humorous drawing of a man holding a large, yellow, and black balloon. The man is wearing a white shirt and has a white beard. The balloon is so large that it almost covers the man's entire body. The man's hand is also visible, and it seems like he's holding the balloon with both hands.\n",
      "==========\n",
      "Prompt: 13.872 tokens-per-sec\n",
      "Generation: 43.945 tokens-per-sec\n"
     ]
    }
   ],
   "source": [
    "prompt = processor.apply_chat_template(\n",
    "    [{\"role\": \"user\", \"content\": f\"<image>\\nWhat's so funny about this image?\"}],\n",
    "    tokenize=False,\n",
    "    add_generation_prompt=True,\n",
    ")\n",
    "\n",
    "output = generate(model, processor, \"./assets/image.png\", prompt, image_processor, verbose=True)"
   ]
  }
 ],
 "metadata": {
  "kernelspec": {
   "display_name": "mlx_code",
   "language": "python",
   "name": "python3"
  },
  "language_info": {
   "codemirror_mode": {
    "name": "ipython",
    "version": 3
   },
   "file_extension": ".py",
   "mimetype": "text/x-python",
   "name": "python",
   "nbconvert_exporter": "python",
   "pygments_lexer": "ipython3",
   "version": "3.10.14"
  }
 },
 "nbformat": 4,
 "nbformat_minor": 2
}
